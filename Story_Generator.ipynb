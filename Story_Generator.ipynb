{
  "nbformat": 4,
  "nbformat_minor": 0,
  "metadata": {
    "colab": {
      "name": "Story Generator.ipynb",
      "provenance": []
    },
    "kernelspec": {
      "name": "python3",
      "display_name": "Python 3"
    },
    "language_info": {
      "name": "python"
    }
  },
  "cells": [
    {
      "cell_type": "code",
      "source": [
        "# Importing random module\n",
        "import random\n",
        "\n",
        "# Defining list of phrases which will help to build a story\n",
        "\n",
        "Sentence_starter = ['About 100 years ago', ' In the 20 BC', 'Once upon a time']\n",
        "character = [' there lived a king.',' there was a man named Jack.',\n",
        "\t\t\t' there lived a farmer.']\n",
        "time = [' One day', ' One full-moon night']\n",
        "story_plot = [' he was passing by',' he was going for a picnic to ']\n",
        "place = [' the mountains', ' the garden']\n",
        "second_character = [' he saw a man', ' he saw a young lady']\n",
        "age = [' who seemed to be in late 20s', ' who seemed very old and feeble']\n",
        "work = [' searching something.', ' digging a well on roadside.']\n",
        "\n",
        "# Selecting an item from each list and concatenating them.\n",
        "print(random.choice(Sentence_starter)+random.choice(character)+\n",
        "\trandom.choice(time)+random.choice(story_plot) +\n",
        "\trandom.choice(place)+random.choice(second_character)+\n",
        "\trandom.choice(age)+random.choice(work))\n"
      ],
      "metadata": {
        "colab": {
          "base_uri": "https://localhost:8080/"
        },
        "id": "tQGgDW0paVxA",
        "outputId": "91b58537-bb19-4f2e-b2f6-d63cd57d3113"
      },
      "execution_count": 23,
      "outputs": [
        {
          "output_type": "stream",
          "name": "stdout",
          "text": [
            "About 100 years ago there lived a king. One day he was going for a picnic to  the mountains he saw a man who seemed very old and feeble searching something.\n"
          ]
        }
      ]
    }
  ]
}